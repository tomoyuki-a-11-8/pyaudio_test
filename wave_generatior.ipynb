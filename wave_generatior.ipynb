{
 "cells": [
  {
   "cell_type": "code",
   "execution_count": 5,
   "metadata": {},
   "outputs": [],
   "source": [
    "import numpy as np\n",
    "from matplotlib import pyplot as plt\n",
    "import librosa\n",
    "import wave\n",
    "import struct\n",
    "\n",
    "#パラメータ\n",
    "#--------------------------------------------------------------------------------------------------------------------\n",
    "A=1#振幅\n",
    "fs = 44100#サンプリング周波数\n",
    "f0 = 60#基本周波数(今回はラ)\n",
    "sec = 10 #秒\n",
    "\n",
    "#sin波\n",
    "#--------------------------------------------------------------------------------------------------------------------\n",
    "def create_wave(A,f0,fs,t):#A:振幅,f0:基本周波数,fs:サンプリング周波数,再生時間[s]\n",
    "    #nポイント\n",
    "    #--------------------------------------------------------------------------------------------------------------------\n",
    "    point = np.arange(0,fs*t)\n",
    "    sin_wave =A* np.sin(2*np.pi*f0*point/fs)\n",
    "\n",
    "    sin_wave = [int(x * 32767.0) for x in sin_wave]#16bit符号付き整数に変換\n",
    "\n",
    "    #バイナリ化\n",
    "    binwave = struct.pack(\"h\" * len(sin_wave), *sin_wave)\n",
    "\n",
    "    #サイン波をwavファイルとして書き出し\n",
    "    w = wave.Wave_write(\"test_wave/\"+str(f0)+\"Hz.wav\")\n",
    "    p = (1, 2, fs, len(binwave), 'NONE', 'not compressed')#(チャンネル数(1:モノラル,2:ステレオ)、サンプルサイズ(バイト)、サンプリング周波数、フレーム数、圧縮形式(今のところNONEのみ)、圧縮形式を人に判読可能な形にしたもの？通常、 'NONE' に対して 'not compressed' が返されます。)\n",
    "    w.setparams(p)\n",
    "    w.writeframes(binwave)\n",
    "    w.close()\n",
    "create_wave(A, f0, fs, sec) "
   ]
  },
  {
   "cell_type": "code",
   "execution_count": null,
   "metadata": {},
   "outputs": [],
   "source": []
  }
 ],
 "metadata": {
  "kernelspec": {
   "display_name": "Python 3",
   "language": "python",
   "name": "python3"
  },
  "language_info": {
   "codemirror_mode": {
    "name": "ipython",
    "version": 3
   },
   "file_extension": ".py",
   "mimetype": "text/x-python",
   "name": "python",
   "nbconvert_exporter": "python",
   "pygments_lexer": "ipython3",
   "version": "3.7.3"
  }
 },
 "nbformat": 4,
 "nbformat_minor": 4
}
