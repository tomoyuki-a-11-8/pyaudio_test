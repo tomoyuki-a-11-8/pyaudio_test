{
 "cells": [
  {
   "cell_type": "code",
   "execution_count": 24,
   "metadata": {},
   "outputs": [
    {
     "name": "stdout",
     "output_type": "stream",
     "text": [
      "Now Recording...\n",
      "Finished Recording.\n"
     ]
    },
    {
     "data": {
      "image/png": "[encoded data removed]",
      "text/plain": [
       "<Figure size 432x288 with 1 Axes>"
      ]
     },
     "metadata": {
      "needs_background": "light"
     },
     "output_type": "display_data"
    }
   ],
   "source": [
    "import pyaudio\n",
    "import numpy\n",
    "import matplotlib.pyplot as plt\n",
    "\n",
    "chunk = 1024\n",
    "FORMAT = pyaudio.paInt16\n",
    "\n",
    "CHANNELS = 1 #モノラル（2にするとステレオ）\n",
    "RATE = 44100 #サンプルレート（録音の音質）\n",
    "RECORD_SECONDS = 5 #録音時間\n",
    "\n",
    "p = pyaudio.PyAudio()\n",
    "\n",
    "stream = p.open(format = FORMAT,\n",
    "                channels = CHANNELS,\n",
    "                rate = RATE,\n",
    "                input = True,\n",
    "                frames_per_buffer = chunk)\n",
    "\n",
    "#レコード開始\n",
    "print(\"Now Recording...\")\n",
    "all = []\n",
    "for i in range(0, int(RATE / chunk * RECORD_SECONDS)):\n",
    "    data = stream.read(chunk) #音声を読み取って、\n",
    "    all.append(data) #データを追加\n",
    "\n",
    "#レコード終了\n",
    "print(\"Finished Recording.\")\n",
    "\n",
    "stream.close()\n",
    "p.terminate()\n",
    "\n",
    "#data = ''.join(all) #Python2用\n",
    "data = b\"\".join(all) #Python3用\n",
    "\n",
    "#録音したデータを配列に変換\n",
    "result = numpy.frombuffer(data,dtype=\"int16\") / float(2**15)\n",
    "\n",
    "plt.plot(result)\n",
    "plt.show()"
   ]
  },
  {
   "cell_type": "code",
   "execution_count": 25,
   "metadata": {},
   "outputs": [
    {
     "data": {
      "text/plain": [
       "array([ 0.00000000e+00,  0.00000000e+00, -3.05175781e-05, ...,\n",
       "        3.96728516e-04,  4.27246094e-04,  4.27246094e-04])"
      ]
     },
     "execution_count": 25,
     "metadata": {},
     "output_type": "execute_result"
    }
   ],
   "source": [
    "result"
   ]
  },
  {
   "cell_type": "code",
   "execution_count": 26,
   "metadata": {},
   "outputs": [],
   "source": [
    "import pandas as pd"
   ]
  },
  {
   "cell_type": "code",
   "execution_count": 27,
   "metadata": {},
   "outputs": [],
   "source": [
    "sound = pd.DataFrame(result)"
   ]
  },
  {
   "cell_type": "code",
   "execution_count": 28,
   "metadata": {},
   "outputs": [
    {
     "data": {
      "text/html": [
       "<div>\n",
       "<style scoped>\n",
       "    .dataframe tbody tr th:only-of-type {\n",
       "        vertical-align: middle;\n",
       "    }\n",
       "\n",
       "    .dataframe tbody tr th {\n",
       "        vertical-align: top;\n",
       "    }\n",
       "\n",
       "    .dataframe thead th {\n",
       "        text-align: right;\n",
       "    }\n",
       "</style>\n",
       "<table border=\"1\" class=\"dataframe\">\n",
       "  <thead>\n",
       "    <tr style=\"text-align: right;\">\n",
       "      <th></th>\n",
       "      <th>0</th>\n",
       "    </tr>\n",
       "  </thead>\n",
       "  <tbody>\n",
       "    <tr>\n",
       "      <th>220155</th>\n",
       "      <td>0.000397</td>\n",
       "    </tr>\n",
       "    <tr>\n",
       "      <th>220156</th>\n",
       "      <td>0.000397</td>\n",
       "    </tr>\n",
       "    <tr>\n",
       "      <th>220157</th>\n",
       "      <td>0.000397</td>\n",
       "    </tr>\n",
       "    <tr>\n",
       "      <th>220158</th>\n",
       "      <td>0.000427</td>\n",
       "    </tr>\n",
       "    <tr>\n",
       "      <th>220159</th>\n",
       "      <td>0.000427</td>\n",
       "    </tr>\n",
       "  </tbody>\n",
       "</table>\n",
       "</div>"
      ],
      "text/plain": [
       "               0\n",
       "220155  0.000397\n",
       "220156  0.000397\n",
       "220157  0.000397\n",
       "220158  0.000427\n",
       "220159  0.000427"
      ]
     },
     "execution_count": 28,
     "metadata": {},
     "output_type": "execute_result"
    }
   ],
   "source": [
    "sound.tail()"
   ]
  },
  {
   "cell_type": "code",
   "execution_count": 39,
   "metadata": {},
   "outputs": [],
   "source": [
    "sound[\"time\"] = range(0,len(sound)) #x軸用に、時間軸を作成"
   ]
  },
  {
   "cell_type": "code",
   "execution_count": 40,
   "metadata": {},
   "outputs": [
    {
     "data": {
      "text/html": [
       "<div>\n",
       "<style scoped>\n",
       "    .dataframe tbody tr th:only-of-type {\n",
       "        vertical-align: middle;\n",
       "    }\n",
       "\n",
       "    .dataframe tbody tr th {\n",
       "        vertical-align: top;\n",
       "    }\n",
       "\n",
       "    .dataframe thead th {\n",
       "        text-align: right;\n",
       "    }\n",
       "</style>\n",
       "<table border=\"1\" class=\"dataframe\">\n",
       "  <thead>\n",
       "    <tr style=\"text-align: right;\">\n",
       "      <th></th>\n",
       "      <th>0</th>\n",
       "      <th>time</th>\n",
       "    </tr>\n",
       "  </thead>\n",
       "  <tbody>\n",
       "    <tr>\n",
       "      <th>220155</th>\n",
       "      <td>0.000397</td>\n",
       "      <td>220155</td>\n",
       "    </tr>\n",
       "    <tr>\n",
       "      <th>220156</th>\n",
       "      <td>0.000397</td>\n",
       "      <td>220156</td>\n",
       "    </tr>\n",
       "    <tr>\n",
       "      <th>220157</th>\n",
       "      <td>0.000397</td>\n",
       "      <td>220157</td>\n",
       "    </tr>\n",
       "    <tr>\n",
       "      <th>220158</th>\n",
       "      <td>0.000427</td>\n",
       "      <td>220158</td>\n",
       "    </tr>\n",
       "    <tr>\n",
       "      <th>220159</th>\n",
       "      <td>0.000427</td>\n",
       "      <td>220159</td>\n",
       "    </tr>\n",
       "  </tbody>\n",
       "</table>\n",
       "</div>"
      ],
      "text/plain": [
       "               0    time\n",
       "220155  0.000397  220155\n",
       "220156  0.000397  220156\n",
       "220157  0.000397  220157\n",
       "220158  0.000427  220158\n",
       "220159  0.000427  220159"
      ]
     },
     "execution_count": 40,
     "metadata": {},
     "output_type": "execute_result"
    }
   ],
   "source": [
    "sound.tail()"
   ]
  },
  {
   "cell_type": "code",
   "execution_count": 45,
   "metadata": {},
   "outputs": [],
   "source": [
    "sound[\"time\"] = sound['time']*(RECORD_SECONDS/(len(sound)-1))"
   ]
  },
  {
   "cell_type": "code",
   "execution_count": 46,
   "metadata": {},
   "outputs": [
    {
     "data": {
      "text/html": [
       "<div>\n",
       "<style scoped>\n",
       "    .dataframe tbody tr th:only-of-type {\n",
       "        vertical-align: middle;\n",
       "    }\n",
       "\n",
       "    .dataframe tbody tr th {\n",
       "        vertical-align: top;\n",
       "    }\n",
       "\n",
       "    .dataframe thead th {\n",
       "        text-align: right;\n",
       "    }\n",
       "</style>\n",
       "<table border=\"1\" class=\"dataframe\">\n",
       "  <thead>\n",
       "    <tr style=\"text-align: right;\">\n",
       "      <th></th>\n",
       "      <th>0</th>\n",
       "      <th>time</th>\n",
       "    </tr>\n",
       "  </thead>\n",
       "  <tbody>\n",
       "    <tr>\n",
       "      <th>220155</th>\n",
       "      <td>0.000397</td>\n",
       "      <td>4.999909</td>\n",
       "    </tr>\n",
       "    <tr>\n",
       "      <th>220156</th>\n",
       "      <td>0.000397</td>\n",
       "      <td>4.999932</td>\n",
       "    </tr>\n",
       "    <tr>\n",
       "      <th>220157</th>\n",
       "      <td>0.000397</td>\n",
       "      <td>4.999955</td>\n",
       "    </tr>\n",
       "    <tr>\n",
       "      <th>220158</th>\n",
       "      <td>0.000427</td>\n",
       "      <td>4.999977</td>\n",
       "    </tr>\n",
       "    <tr>\n",
       "      <th>220159</th>\n",
       "      <td>0.000427</td>\n",
       "      <td>5.000000</td>\n",
       "    </tr>\n",
       "  </tbody>\n",
       "</table>\n",
       "</div>"
      ],
      "text/plain": [
       "               0      time\n",
       "220155  0.000397  4.999909\n",
       "220156  0.000397  4.999932\n",
       "220157  0.000397  4.999955\n",
       "220158  0.000427  4.999977\n",
       "220159  0.000427  5.000000"
      ]
     },
     "execution_count": 46,
     "metadata": {},
     "output_type": "execute_result"
    }
   ],
   "source": [
    "sound.tail()"
   ]
  },
  {
   "cell_type": "code",
   "execution_count": null,
   "metadata": {},
   "outputs": [],
   "source": []
  }
 ],
 "metadata": {
  "kernelspec": {
   "display_name": "Python 3",
   "language": "python",
   "name": "python3"
  },
  "language_info": {
   "codemirror_mode": {
    "name": "ipython",
    "version": 3
   },
   "file_extension": ".py",
   "mimetype": "text/x-python",
   "name": "python",
   "nbconvert_exporter": "python",
   "pygments_lexer": "ipython3",
   "version": "3.7.3"
  }
 },
 "nbformat": 4,
 "nbformat_minor": 4
}
