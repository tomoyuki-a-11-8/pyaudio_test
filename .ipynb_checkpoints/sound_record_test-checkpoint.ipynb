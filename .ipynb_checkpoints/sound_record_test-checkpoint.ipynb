{
 "cells": [
  {
   "cell_type": "code",
   "execution_count": 4,
   "metadata": {},
   "outputs": [
    {
     "name": "stdout",
     "output_type": "stream",
     "text": [
      "Now Recording...\n",
      "Finished Recording.\n"
     ]
    }
   ],
   "source": [
    "import pyaudio\n",
    "import numpy\n",
    "import wave     #wavファイルを扱うためのライブラリ\n",
    "import datetime\n",
    "\n",
    "dt_now = datetime.datetime.now()\n",
    "dt_now_time = dt_now.strftime('%Y%m%d%H%M%S')\n",
    "\n",
    "WAVE_OUTPUT_FILENAME = \"normal/\"+dt_now_time+\"sample.wav\" #音声を保存するファイル名\n",
    "iDeviceIndex = 0 #録音デバイスのインデックス番号\n",
    "\n",
    "def MakeWavFile(FileName = WAVE_OUTPUT_FILENAME, Record_Seconds = 2):\n",
    "    chunk = 1024\n",
    "    FORMAT = pyaudio.paInt16\n",
    "    \n",
    "    CHANNELS = 1 #モノラル\n",
    "    RATE = 44100 #サンプルレート（録音の音質）\n",
    "    \n",
    "    p = pyaudio.PyAudio()\n",
    "    \n",
    "    stream = p.open(format = FORMAT,\n",
    "                    channels = CHANNELS,\n",
    "                    rate = RATE,\n",
    "                    input = True,\n",
    "                    frames_per_buffer = chunk)\n",
    "    \n",
    "    #レコード開始\n",
    "    print(\"Now Recording...\")\n",
    "    all = []\n",
    "    for i in range(0, int(RATE / chunk * Record_Seconds)):\n",
    "        data = stream.read(chunk) #音声を読み取って、\n",
    "        all.append(data) #データを追加\n",
    "    \n",
    "    #レコード終了\n",
    "    print(\"Finished Recording.\")\n",
    "    \n",
    "    stream.close()\n",
    "    p.terminate()\n",
    "    wavFile = wave.open(WAVE_OUTPUT_FILENAME, 'wb')\n",
    "    wavFile.setnchannels(CHANNELS)\n",
    "    wavFile.setsampwidth(p.get_sample_size(FORMAT))\n",
    "    wavFile.setframerate(RATE)\n",
    "    wavFile.writeframes(b''.join(all)) #Python2 用\n",
    "    #wavFile.writeframes(b\"\".join(all)) #Python3用\n",
    "    \n",
    "    wavFile.close()\n",
    "\n",
    "if __name__ is \"__main__\":\n",
    "    #WAVファイル作成, 引数は（ファイル名, 録音する秒数）\n",
    "    MakeWavFile(WAVE_OUTPUT_FILENAME, Record_Seconds = 2) "
   ]
  },
  {
   "cell_type": "code",
   "execution_count": null,
   "metadata": {},
   "outputs": [],
   "source": []
  },
  {
   "cell_type": "code",
   "execution_count": null,
   "metadata": {},
   "outputs": [],
   "source": []
  }
 ],
 "metadata": {
  "kernelspec": {
   "display_name": "Python 3",
   "language": "python",
   "name": "python3"
  },
  "language_info": {
   "codemirror_mode": {
    "name": "ipython",
    "version": 3
   },
   "file_extension": ".py",
   "mimetype": "text/x-python",
   "name": "python",
   "nbconvert_exporter": "python",
   "pygments_lexer": "ipython3",
   "version": "3.7.3"
  }
 },
 "nbformat": 4,
 "nbformat_minor": 4
}
