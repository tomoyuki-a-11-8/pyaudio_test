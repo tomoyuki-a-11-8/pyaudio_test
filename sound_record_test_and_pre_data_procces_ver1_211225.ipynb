{
 "cells": [
  {
   "cell_type": "code",
   "execution_count": 1,
   "metadata": {},
   "outputs": [],
   "source": [
    "import pyaudio\n",
    "import numpy\n",
    "import wave     #wavファイルを扱うためのライブラリ\n",
    "import datetime\n",
    "\n"
   ]
  },
  {
   "cell_type": "code",
   "execution_count": 17,
   "metadata": {},
   "outputs": [
    {
     "name": "stdout",
     "output_type": "stream",
     "text": [
      "Now Recording...\n",
      "Finished Recording.\n"
     ]
    },
    {
     "data": {
      "image/png": "[encoded data removed]",
      "text/plain": [
       "<Figure size 432x288 with 1 Axes>"
      ]
     },
     "metadata": {
      "needs_background": "light"
     },
     "output_type": "display_data"
    }
   ],
   "source": [
    "import pyaudio\n",
    "import numpy\n",
    "import matplotlib.pyplot as plt\n",
    "import wave\n",
    "\n",
    "chunk = 1024\n",
    "FORMAT = pyaudio.paInt16\n",
    "\n",
    "CHANNELS = 1 #モノラル（2にするとステレオ）\n",
    "RATE = 44100 #サンプルレート（録音の音質）\n",
    "RECORD_SECONDS = 5 #録音時間\n",
    "\n",
    "p = pyaudio.PyAudio()\n",
    "\n",
    "stream = p.open(format = FORMAT,\n",
    "                channels = CHANNELS,\n",
    "                rate = RATE,\n",
    "                input = True,\n",
    "                frames_per_buffer = chunk)\n",
    "\n",
    "#レコード開始\n",
    "print(\"Now Recording...\")\n",
    "all = []\n",
    "for i in range(0, int(RATE / chunk * RECORD_SECONDS)):\n",
    "    data = stream.read(chunk) #音声を読み取って、\n",
    "    all.append(data) #データを追加\n",
    "\n",
    "#レコード終了\n",
    "print(\"Finished Recording.\")\n",
    "\n",
    "stream.close()\n",
    "p.terminate()\n",
    "\n",
    "#data = ''.join(all) #Python2用\n",
    "data = b\"\".join(all) #Python3用\n",
    "\n",
    "#録音したデータを配列に変換\n",
    "result = numpy.frombuffer(data,dtype=\"int16\") / float(2**15)\n",
    "\n",
    "plt.plot(result)\n",
    "plt.show()"
   ]
  },
  {
   "cell_type": "code",
   "execution_count": 18,
   "metadata": {},
   "outputs": [],
   "source": [
    "import pandas as pd"
   ]
  },
  {
   "cell_type": "code",
   "execution_count": 19,
   "metadata": {},
   "outputs": [],
   "source": [
    "sound = pd.DataFrame(result)"
   ]
  },
  {
   "cell_type": "code",
   "execution_count": 20,
   "metadata": {},
   "outputs": [],
   "source": [
    "sound.to_csv(\"result3.csv\", encoding=\"shift_jis\")"
   ]
  },
  {
   "cell_type": "code",
   "execution_count": 9,
   "metadata": {},
   "outputs": [
    {
     "data": {
      "text/html": [
       "<div>\n",
       "<style scoped>\n",
       "    .dataframe tbody tr th:only-of-type {\n",
       "        vertical-align: middle;\n",
       "    }\n",
       "\n",
       "    .dataframe tbody tr th {\n",
       "        vertical-align: top;\n",
       "    }\n",
       "\n",
       "    .dataframe thead th {\n",
       "        text-align: right;\n",
       "    }\n",
       "</style>\n",
       "<table border=\"1\" class=\"dataframe\">\n",
       "  <thead>\n",
       "    <tr style=\"text-align: right;\">\n",
       "      <th></th>\n",
       "      <th>0</th>\n",
       "    </tr>\n",
       "  </thead>\n",
       "  <tbody>\n",
       "    <tr>\n",
       "      <th>220155</th>\n",
       "      <td>-0.002655</td>\n",
       "    </tr>\n",
       "    <tr>\n",
       "      <th>220156</th>\n",
       "      <td>-0.002686</td>\n",
       "    </tr>\n",
       "    <tr>\n",
       "      <th>220157</th>\n",
       "      <td>-0.002686</td>\n",
       "    </tr>\n",
       "    <tr>\n",
       "      <th>220158</th>\n",
       "      <td>-0.002686</td>\n",
       "    </tr>\n",
       "    <tr>\n",
       "      <th>220159</th>\n",
       "      <td>-0.002716</td>\n",
       "    </tr>\n",
       "  </tbody>\n",
       "</table>\n",
       "</div>"
      ],
      "text/plain": [
       "               0\n",
       "220155 -0.002655\n",
       "220156 -0.002686\n",
       "220157 -0.002686\n",
       "220158 -0.002686\n",
       "220159 -0.002716"
      ]
     },
     "execution_count": 9,
     "metadata": {},
     "output_type": "execute_result"
    }
   ],
   "source": [
    "sound.tail()"
   ]
  },
  {
   "cell_type": "code",
   "execution_count": 10,
   "metadata": {},
   "outputs": [],
   "source": [
    "sound[\"time\"] = range(0,len(sound)) #x軸用に、時間軸を作成"
   ]
  },
  {
   "cell_type": "code",
   "execution_count": 12,
   "metadata": {},
   "outputs": [],
   "source": [
    "sound[\"time\"] = sound['time']*(RECORD_SECONDS/(len(sound)-1))"
   ]
  },
  {
   "cell_type": "code",
   "execution_count": 13,
   "metadata": {},
   "outputs": [
    {
     "data": {
      "text/html": [
       "<div>\n",
       "<style scoped>\n",
       "    .dataframe tbody tr th:only-of-type {\n",
       "        vertical-align: middle;\n",
       "    }\n",
       "\n",
       "    .dataframe tbody tr th {\n",
       "        vertical-align: top;\n",
       "    }\n",
       "\n",
       "    .dataframe thead th {\n",
       "        text-align: right;\n",
       "    }\n",
       "</style>\n",
       "<table border=\"1\" class=\"dataframe\">\n",
       "  <thead>\n",
       "    <tr style=\"text-align: right;\">\n",
       "      <th></th>\n",
       "      <th>0</th>\n",
       "      <th>time</th>\n",
       "    </tr>\n",
       "  </thead>\n",
       "  <tbody>\n",
       "    <tr>\n",
       "      <th>220155</th>\n",
       "      <td>-0.002655</td>\n",
       "      <td>4.999909</td>\n",
       "    </tr>\n",
       "    <tr>\n",
       "      <th>220156</th>\n",
       "      <td>-0.002686</td>\n",
       "      <td>4.999932</td>\n",
       "    </tr>\n",
       "    <tr>\n",
       "      <th>220157</th>\n",
       "      <td>-0.002686</td>\n",
       "      <td>4.999955</td>\n",
       "    </tr>\n",
       "    <tr>\n",
       "      <th>220158</th>\n",
       "      <td>-0.002686</td>\n",
       "      <td>4.999977</td>\n",
       "    </tr>\n",
       "    <tr>\n",
       "      <th>220159</th>\n",
       "      <td>-0.002716</td>\n",
       "      <td>5.000000</td>\n",
       "    </tr>\n",
       "  </tbody>\n",
       "</table>\n",
       "</div>"
      ],
      "text/plain": [
       "               0      time\n",
       "220155 -0.002655  4.999909\n",
       "220156 -0.002686  4.999932\n",
       "220157 -0.002686  4.999955\n",
       "220158 -0.002686  4.999977\n",
       "220159 -0.002716  5.000000"
      ]
     },
     "execution_count": 13,
     "metadata": {},
     "output_type": "execute_result"
    }
   ],
   "source": [
    "sound.tail()"
   ]
  },
  {
   "cell_type": "code",
   "execution_count": 14,
   "metadata": {},
   "outputs": [],
   "source": [
    "from scipy.signal import find_peaks"
   ]
  },
  {
   "cell_type": "code",
   "execution_count": 26,
   "metadata": {},
   "outputs": [],
   "source": [
    "sound_new = sound.rename(columns={0: 'Amplitude'})"
   ]
  },
  {
   "cell_type": "code",
   "execution_count": 27,
   "metadata": {},
   "outputs": [
    {
     "data": {
      "text/html": [
       "<div>\n",
       "<style scoped>\n",
       "    .dataframe tbody tr th:only-of-type {\n",
       "        vertical-align: middle;\n",
       "    }\n",
       "\n",
       "    .dataframe tbody tr th {\n",
       "        vertical-align: top;\n",
       "    }\n",
       "\n",
       "    .dataframe thead th {\n",
       "        text-align: right;\n",
       "    }\n",
       "</style>\n",
       "<table border=\"1\" class=\"dataframe\">\n",
       "  <thead>\n",
       "    <tr style=\"text-align: right;\">\n",
       "      <th></th>\n",
       "      <th>Amplitude</th>\n",
       "      <th>time</th>\n",
       "    </tr>\n",
       "  </thead>\n",
       "  <tbody>\n",
       "    <tr>\n",
       "      <th>0</th>\n",
       "      <td>0.000000</td>\n",
       "      <td>0.000000</td>\n",
       "    </tr>\n",
       "    <tr>\n",
       "      <th>1</th>\n",
       "      <td>0.000000</td>\n",
       "      <td>0.000023</td>\n",
       "    </tr>\n",
       "    <tr>\n",
       "      <th>2</th>\n",
       "      <td>-0.000031</td>\n",
       "      <td>0.000045</td>\n",
       "    </tr>\n",
       "    <tr>\n",
       "      <th>3</th>\n",
       "      <td>0.000000</td>\n",
       "      <td>0.000068</td>\n",
       "    </tr>\n",
       "    <tr>\n",
       "      <th>4</th>\n",
       "      <td>0.000000</td>\n",
       "      <td>0.000091</td>\n",
       "    </tr>\n",
       "  </tbody>\n",
       "</table>\n",
       "</div>"
      ],
      "text/plain": [
       "   Amplitude      time\n",
       "0   0.000000  0.000000\n",
       "1   0.000000  0.000023\n",
       "2  -0.000031  0.000045\n",
       "3   0.000000  0.000068\n",
       "4   0.000000  0.000091"
      ]
     },
     "execution_count": 27,
     "metadata": {},
     "output_type": "execute_result"
    }
   ],
   "source": [
    "sound_new.head()"
   ]
  },
  {
   "cell_type": "code",
   "execution_count": 28,
   "metadata": {},
   "outputs": [
    {
     "data": {
      "text/plain": [
       "Amplitude    0.031219\n",
       "time         3.935792\n",
       "Name: 173300, dtype: float64"
      ]
     },
     "execution_count": 28,
     "metadata": {},
     "output_type": "execute_result"
    }
   ],
   "source": [
    "sound_new.loc[sound_new['Amplitude'].idxmax()]"
   ]
  },
  {
   "cell_type": "code",
   "execution_count": 29,
   "metadata": {},
   "outputs": [],
   "source": [
    "a = sound_new.loc[sound_new['Amplitude'].idxmax()]\n",
    "#　Amplitudeの最大値のデータを取得"
   ]
  },
  {
   "cell_type": "code",
   "execution_count": 30,
   "metadata": {},
   "outputs": [
    {
     "data": {
      "text/plain": [
       "Amplitude    0.031219\n",
       "time         3.935792\n",
       "Name: 173300, dtype: float64"
      ]
     },
     "execution_count": 30,
     "metadata": {},
     "output_type": "execute_result"
    }
   ],
   "source": [
    "a"
   ]
  },
  {
   "cell_type": "code",
   "execution_count": 32,
   "metadata": {},
   "outputs": [
    {
     "data": {
      "text/plain": [
       "2.935791859519711"
      ]
     },
     "execution_count": 32,
     "metadata": {},
     "output_type": "execute_result"
    }
   ],
   "source": [
    "a['time']\n",
    "#　Amplitudeの最大値のデータから、timeのデータのみ抽出"
   ]
  },
  {
   "cell_type": "code",
   "execution_count": 55,
   "metadata": {},
   "outputs": [],
   "source": [
    "sound_new_over_maxtime = sound_new[sound_new['time'] > (a['time']-0.2)]\n",
    "# ピーク値ー0.2s以上でデータを切り出し"
   ]
  },
  {
   "cell_type": "code",
   "execution_count": 56,
   "metadata": {},
   "outputs": [
    {
     "data": {
      "text/html": [
       "<div>\n",
       "<style scoped>\n",
       "    .dataframe tbody tr th:only-of-type {\n",
       "        vertical-align: middle;\n",
       "    }\n",
       "\n",
       "    .dataframe tbody tr th {\n",
       "        vertical-align: top;\n",
       "    }\n",
       "\n",
       "    .dataframe thead th {\n",
       "        text-align: right;\n",
       "    }\n",
       "</style>\n",
       "<table border=\"1\" class=\"dataframe\">\n",
       "  <thead>\n",
       "    <tr style=\"text-align: right;\">\n",
       "      <th></th>\n",
       "      <th>Amplitude</th>\n",
       "      <th>time</th>\n",
       "    </tr>\n",
       "  </thead>\n",
       "  <tbody>\n",
       "    <tr>\n",
       "      <th>164494</th>\n",
       "      <td>0.001038</td>\n",
       "      <td>3.735800</td>\n",
       "    </tr>\n",
       "    <tr>\n",
       "      <th>164495</th>\n",
       "      <td>0.001099</td>\n",
       "      <td>3.735823</td>\n",
       "    </tr>\n",
       "    <tr>\n",
       "      <th>164496</th>\n",
       "      <td>0.001129</td>\n",
       "      <td>3.735845</td>\n",
       "    </tr>\n",
       "    <tr>\n",
       "      <th>164497</th>\n",
       "      <td>0.001160</td>\n",
       "      <td>3.735868</td>\n",
       "    </tr>\n",
       "    <tr>\n",
       "      <th>164498</th>\n",
       "      <td>0.001068</td>\n",
       "      <td>3.735891</td>\n",
       "    </tr>\n",
       "    <tr>\n",
       "      <th>...</th>\n",
       "      <td>...</td>\n",
       "      <td>...</td>\n",
       "    </tr>\n",
       "    <tr>\n",
       "      <th>220155</th>\n",
       "      <td>-0.002655</td>\n",
       "      <td>4.999909</td>\n",
       "    </tr>\n",
       "    <tr>\n",
       "      <th>220156</th>\n",
       "      <td>-0.002686</td>\n",
       "      <td>4.999932</td>\n",
       "    </tr>\n",
       "    <tr>\n",
       "      <th>220157</th>\n",
       "      <td>-0.002686</td>\n",
       "      <td>4.999955</td>\n",
       "    </tr>\n",
       "    <tr>\n",
       "      <th>220158</th>\n",
       "      <td>-0.002686</td>\n",
       "      <td>4.999977</td>\n",
       "    </tr>\n",
       "    <tr>\n",
       "      <th>220159</th>\n",
       "      <td>-0.002716</td>\n",
       "      <td>5.000000</td>\n",
       "    </tr>\n",
       "  </tbody>\n",
       "</table>\n",
       "<p>55666 rows × 2 columns</p>\n",
       "</div>"
      ],
      "text/plain": [
       "        Amplitude      time\n",
       "164494   0.001038  3.735800\n",
       "164495   0.001099  3.735823\n",
       "164496   0.001129  3.735845\n",
       "164497   0.001160  3.735868\n",
       "164498   0.001068  3.735891\n",
       "...           ...       ...\n",
       "220155  -0.002655  4.999909\n",
       "220156  -0.002686  4.999932\n",
       "220157  -0.002686  4.999955\n",
       "220158  -0.002686  4.999977\n",
       "220159  -0.002716  5.000000\n",
       "\n",
       "[55666 rows x 2 columns]"
      ]
     },
     "execution_count": 56,
     "metadata": {},
     "output_type": "execute_result"
    }
   ],
   "source": [
    "sound_new_over_maxtime"
   ]
  },
  {
   "cell_type": "code",
   "execution_count": 57,
   "metadata": {},
   "outputs": [],
   "source": [
    "sound_new_time_1s = sound_new_over_maxtime[0:44100]\n",
    "#ピーク値ー0.2s　～　1s後まででデータ切り出し（sampling rate = 44.1kHz 1s = 44.1k）"
   ]
  },
  {
   "cell_type": "code",
   "execution_count": 58,
   "metadata": {},
   "outputs": [
    {
     "data": {
      "text/plain": [
       "[<matplotlib.lines.Line2D at 0x2abeb269128>]"
      ]
     },
     "execution_count": 58,
     "metadata": {},
     "output_type": "execute_result"
    },
    {
     "data": {
      "image/png": "[encoded data removed]",
      "text/plain": [
       "<Figure size 432x288 with 1 Axes>"
      ]
     },
     "metadata": {
      "needs_background": "light"
     },
     "output_type": "display_data"
    }
   ],
   "source": [
    "plt.plot(sound_new_time_1s['Amplitude'])\n",
    "#グラフ描写テスト"
   ]
  },
  {
   "cell_type": "code",
   "execution_count": 59,
   "metadata": {},
   "outputs": [
    {
     "data": {
      "text/html": [
       "<div>\n",
       "<style scoped>\n",
       "    .dataframe tbody tr th:only-of-type {\n",
       "        vertical-align: middle;\n",
       "    }\n",
       "\n",
       "    .dataframe tbody tr th {\n",
       "        vertical-align: top;\n",
       "    }\n",
       "\n",
       "    .dataframe thead th {\n",
       "        text-align: right;\n",
       "    }\n",
       "</style>\n",
       "<table border=\"1\" class=\"dataframe\">\n",
       "  <thead>\n",
       "    <tr style=\"text-align: right;\">\n",
       "      <th></th>\n",
       "      <th>Amplitude</th>\n",
       "      <th>time</th>\n",
       "    </tr>\n",
       "  </thead>\n",
       "  <tbody>\n",
       "    <tr>\n",
       "      <th>164494</th>\n",
       "      <td>0.001038</td>\n",
       "      <td>3.735800</td>\n",
       "    </tr>\n",
       "    <tr>\n",
       "      <th>164495</th>\n",
       "      <td>0.001099</td>\n",
       "      <td>3.735823</td>\n",
       "    </tr>\n",
       "    <tr>\n",
       "      <th>164496</th>\n",
       "      <td>0.001129</td>\n",
       "      <td>3.735845</td>\n",
       "    </tr>\n",
       "    <tr>\n",
       "      <th>164497</th>\n",
       "      <td>0.001160</td>\n",
       "      <td>3.735868</td>\n",
       "    </tr>\n",
       "    <tr>\n",
       "      <th>164498</th>\n",
       "      <td>0.001068</td>\n",
       "      <td>3.735891</td>\n",
       "    </tr>\n",
       "    <tr>\n",
       "      <th>...</th>\n",
       "      <td>...</td>\n",
       "      <td>...</td>\n",
       "    </tr>\n",
       "    <tr>\n",
       "      <th>208589</th>\n",
       "      <td>-0.000458</td>\n",
       "      <td>4.737235</td>\n",
       "    </tr>\n",
       "    <tr>\n",
       "      <th>208590</th>\n",
       "      <td>-0.000366</td>\n",
       "      <td>4.737258</td>\n",
       "    </tr>\n",
       "    <tr>\n",
       "      <th>208591</th>\n",
       "      <td>-0.000366</td>\n",
       "      <td>4.737281</td>\n",
       "    </tr>\n",
       "    <tr>\n",
       "      <th>208592</th>\n",
       "      <td>-0.000336</td>\n",
       "      <td>4.737303</td>\n",
       "    </tr>\n",
       "    <tr>\n",
       "      <th>208593</th>\n",
       "      <td>-0.000336</td>\n",
       "      <td>4.737326</td>\n",
       "    </tr>\n",
       "  </tbody>\n",
       "</table>\n",
       "<p>44100 rows × 2 columns</p>\n",
       "</div>"
      ],
      "text/plain": [
       "        Amplitude      time\n",
       "164494   0.001038  3.735800\n",
       "164495   0.001099  3.735823\n",
       "164496   0.001129  3.735845\n",
       "164497   0.001160  3.735868\n",
       "164498   0.001068  3.735891\n",
       "...           ...       ...\n",
       "208589  -0.000458  4.737235\n",
       "208590  -0.000366  4.737258\n",
       "208591  -0.000366  4.737281\n",
       "208592  -0.000336  4.737303\n",
       "208593  -0.000336  4.737326\n",
       "\n",
       "[44100 rows x 2 columns]"
      ]
     },
     "execution_count": 59,
     "metadata": {},
     "output_type": "execute_result"
    }
   ],
   "source": [
    "sound_new_time_1s"
   ]
  },
  {
   "cell_type": "code",
   "execution_count": null,
   "metadata": {},
   "outputs": [],
   "source": []
  }
 ],
 "metadata": {
  "kernelspec": {
   "display_name": "Python 3",
   "language": "python",
   "name": "python3"
  },
  "language_info": {
   "codemirror_mode": {
    "name": "ipython",
    "version": 3
   },
   "file_extension": ".py",
   "mimetype": "text/x-python",
   "name": "python",
   "nbconvert_exporter": "python",
   "pygments_lexer": "ipython3",
   "version": "3.7.3"
  }
 },
 "nbformat": 4,
 "nbformat_minor": 4
}
