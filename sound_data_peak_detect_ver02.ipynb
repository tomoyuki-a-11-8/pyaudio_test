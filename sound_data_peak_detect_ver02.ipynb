{
 "cells": [
  {
   "cell_type": "code",
   "execution_count": 8,
   "metadata": {},
   "outputs": [],
   "source": [
    "import glob\n",
    "import csv\n",
    "import pandas as pd\n",
    "\n",
    "RECORD_SECONDS = 5\n",
    "#音測定時のデータ取得時間をRECORD_SECONDSとして入力\n",
    "RATE = 44100\n",
    "#音測定時のsampling rateをRATEとして入力"
   ]
  },
  {
   "cell_type": "code",
   "execution_count": 16,
   "metadata": {},
   "outputs": [],
   "source": [
    "if __name__ == '__main__':\n",
    "\n",
    "  file_list = glob.glob('*.csv')#フォルダ内のファイル名を全て読み込み"
   ]
  },
  {
   "cell_type": "code",
   "execution_count": 17,
   "metadata": {},
   "outputs": [],
   "source": [
    "for file_name in file_list:\n",
    "    #file_listとして取得したフォルダ内のファイルを順に読み込み\n",
    "    df = pd.read_csv(file_name)\n",
    "    #csvファイルをpandas dataframeとして読み込み\n",
    "    df.columns = [\"time\",\"Amplitude\"]\n",
    "    #読み込んだファイルに、columnsをつける\n",
    "    df[\"time\"] = df['time']*(RECORD_SECONDS/(len(df['time'])-1))\n",
    "    #元データは、timeが取得データ数　取得時間÷取得データ数で、timeを時間に換算\n",
    "    df_max = df.loc[df['Amplitude'].idxmax()]\n",
    "    #Amplitudeの最大値の行を抽出\n",
    "    df_max_time = df_max['time']\n",
    "    #抽出した最大値の行の中のtimeを抽出\n",
    "    df_extract_1s_pre = df[df['time'] > (df_max_time-0.2)]\n",
    "    #最大値から0.2sよりも前のデータを全て切り捨て\n",
    "    df_extract_1s = df_extract_1s_pre[0:RATE]\n",
    "    #ピーク値ー0.2s　～　1s後まででデータ切り出し（sampling rate = 44.1kHz 1s = 44.1k）\n",
    "    # ピーク値ー0.2s以上でデータを切り出し\n",
    "    df_extract_1s.to_csv(file_name+'_out.csv') #csvファイルとして出力"
   ]
  },
  {
   "cell_type": "code",
   "execution_count": null,
   "metadata": {},
   "outputs": [],
   "source": []
  }
 ],
 "metadata": {
  "kernelspec": {
   "display_name": "Python 3",
   "language": "python",
   "name": "python3"
  },
  "language_info": {
   "codemirror_mode": {
    "name": "ipython",
    "version": 3
   },
   "file_extension": ".py",
   "mimetype": "text/x-python",
   "name": "python",
   "nbconvert_exporter": "python",
   "pygments_lexer": "ipython3",
   "version": "3.7.3"
  }
 },
 "nbformat": 4,
 "nbformat_minor": 4
}
